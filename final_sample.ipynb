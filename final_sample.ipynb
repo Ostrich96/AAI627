{
 "cells": [
  {
   "cell_type": "code",
   "execution_count": 14,
   "metadata": {},
   "outputs": [],
   "source": [
    "import numpy\n",
    "dataDir='C:/AAI627/data/'\n",
    "file_name_test=dataDir + 'testTrack_hierarchy.txt'\n",
    "file_name_train=dataDir + 'trainIdx2_matrix.txt'\n",
    "output_file= dataDir + 'output1.txt'\n",
    "fTest= open(file_name_test, 'r')\n",
    "fTrain=open(file_name_train, 'r')\n",
    "Trainline= fTrain.readline()\n",
    "fOut = open(output_file, 'w')"
   ]
  },
  {
   "cell_type": "code",
   "execution_count": 15,
   "metadata": {},
   "outputs": [],
   "source": [
    "trackID_vec=[0]*6\n",
    "albumID_vec=[0]*6\n",
    "artistID_vec=[0]*6\n",
    "genre1ID_vec = [-1]*6\n",
    "genre2ID_vec = [-1]*6\n",
    "genre3ID_vec = [-1]*6\n",
    "lastUserID=-1\n",
    "user_rating_inTrain=numpy.full((6,5),-1)"
   ]
  },
  {
   "cell_type": "code",
   "execution_count": 16,
   "metadata": {},
   "outputs": [],
   "source": [
    "for line in fTest:\n",
    "    arr_test=line.strip().split('|')\n",
    "    userID= arr_test[0]\n",
    "    trackID= arr_test[1]\n",
    "    albumID= arr_test[2]\n",
    "    artistID=arr_test[3]\n",
    "    size = len(arr_test)\n",
    "    if size>=5:\n",
    "        genre1ID = arr_test[4]\n",
    "    if size>=6:\n",
    "        genre2ID = arr_test[5]\n",
    "    if size>=7:\n",
    "        genre3ID = arr_test[6]\n",
    "\n",
    "    if userID!= lastUserID:\n",
    "        ii=0\n",
    "        user_rating_inTrain=numpy.full((6,5),-1)\n",
    "    trackID_vec[ii]=trackID\n",
    "    albumID_vec[ii]=albumID\n",
    "    artistID_vec[ii]=artistID\n",
    "    if genre1ID:\n",
    "        genre1ID_vec[ii] = genre1ID\n",
    "    if genre2ID:\n",
    "        genre2ID_vec[ii] = genre2ID\n",
    "    if genre3ID:\n",
    "        genre3ID_vec[ii] = genre3ID   \n",
    "    \n",
    "    ii=ii+1\n",
    "    lastUserID=userID\n",
    "\n",
    "    if ii==6 : \n",
    "        while (Trainline):\n",
    "        # for Trainline in fTrain:\n",
    "            arr_train = Trainline.strip().split('|')\n",
    "            trainUserID=arr_train[0]\n",
    "            trainItemID=arr_train[1]\n",
    "            trainRating=arr_train[2]\n",
    "            Trainline=fTrain.readline()\n",
    "\n",
    "            if trainUserID< userID:#not find\n",
    "                continue\n",
    "            if trainUserID== userID:# found\n",
    "                for nn in range(0, 6):\n",
    "                    if trainItemID==albumID_vec[nn]:\n",
    "                        user_rating_inTrain[nn, 0]=trainRating\n",
    "                    if trainItemID==artistID_vec[nn]:\n",
    "                        user_rating_inTrain[nn, 1]=trainRating\n",
    "                    if trainItemID == genre1ID_vec[nn]:\n",
    "                        user_rating_inTrain[nn,2] = trainRating\n",
    "                    if trainItemID == genre2ID_vec[nn]:\n",
    "                        user_rating_inTrain[nn,3] = trainRating\n",
    "                    if trainItemID == genre3ID_vec[nn]:\n",
    "                        user_rating_inTrain[nn,4] = trainRating\n",
    "                    \n",
    "            if trainUserID> userID:\n",
    "                for nn in range(0, 6):\n",
    "                    outStr=str(userID) + '|' + str(trackID_vec[nn])+ '|' + str(user_rating_inTrain[nn,0]) + '|' + str(user_rating_inTrain[nn, 1])+ '|' + str(user_rating_inTrain[nn, 2])+ '|' + str(user_rating_inTrain[nn, 3])+ '|' + str(user_rating_inTrain[nn, 4])\n",
    "                    fOut.write(outStr + '\\n')\n",
    "                break\n",
    "fTest.close()\n",
    "fTrain.close()"
   ]
  },
  {
   "cell_type": "code",
   "execution_count": null,
   "metadata": {},
   "outputs": [],
   "source": []
  },
  {
   "cell_type": "code",
   "execution_count": null,
   "metadata": {},
   "outputs": [],
   "source": []
  }
 ],
 "metadata": {
  "interpreter": {
   "hash": "907c4abbdbe614c82ef4fec29af034657014b2ff572d7bb616e2b122960da0dc"
  },
  "kernelspec": {
   "display_name": "Python 3.9.10 64-bit",
   "language": "python",
   "name": "python3"
  },
  "language_info": {
   "codemirror_mode": {
    "name": "ipython",
    "version": 3
   },
   "file_extension": ".py",
   "mimetype": "text/x-python",
   "name": "python",
   "nbconvert_exporter": "python",
   "pygments_lexer": "ipython3",
   "version": "3.9.10"
  },
  "orig_nbformat": 4
 },
 "nbformat": 4,
 "nbformat_minor": 2
}
