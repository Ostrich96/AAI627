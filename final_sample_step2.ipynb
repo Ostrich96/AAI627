{
 "cells": [
  {
   "cell_type": "code",
   "execution_count": 170,
   "metadata": {},
   "outputs": [],
   "source": [
    "import csv\n",
    "import copy"
   ]
  },
  {
   "cell_type": "code",
   "execution_count": 171,
   "metadata": {},
   "outputs": [],
   "source": [
    "dataDir='C:/AAI627/data/'\n",
    "file_name_socre = dataDir+ 'output1.txt'\n",
    "output_file= dataDir + 'recommendResult.csv'\n",
    "fScore= open(file_name_socre, 'r')\n",
    "fOut = open(output_file,'w',newline='')\n",
    "writer = csv.writer(fOut)"
   ]
  },
  {
   "cell_type": "code",
   "execution_count": 172,
   "metadata": {},
   "outputs": [
    {
     "name": "stdout",
     "output_type": "stream",
     "text": [
      "120000\n",
      "120000\n"
     ]
    }
   ],
   "source": [
    "countLine = 0\n",
    "sort6track = []\n",
    "result = []\n",
    "nameList = []\n",
    "for line in fScore:\n",
    "    \n",
    "    lineList = line.strip().split('|')\n",
    "    #print(lineList)\n",
    "    name = lineList[0]+'_'+lineList[1]\n",
    "    nameList.append(name)\n",
    "    scoreNum = 0\n",
    "    score = 0\n",
    "    albumScore = int(lineList[2])\n",
    "    artistScore = int(lineList[3])\n",
    "    genreScore = max(int(lineList[4]),int(lineList[5]),int(lineList[6]))\n",
    "\n",
    "    if(albumScore == -1):\n",
    "        if(artistScore == -1):\n",
    "            if(genreScore == -1):\n",
    "                score = 0#(-1,-1,-1)\n",
    "            else:#(-1,-1,1)\n",
    "                score = genreScore*0.03\n",
    "        elif(artistScore != -1):\n",
    "            if(genreScore == -1):\n",
    "                score = artistScore*0.40#(-1,1,-1)\n",
    "            else:\n",
    "                score = 0.4*artistScore+0.03*genreScore#(-1,1,1)\n",
    "    elif(albumScore!= -1):\n",
    "        if(artistScore == -1):\n",
    "            if(genreScore == -1):\n",
    "                score = albumScore*0.57#(1,-1,-1)\n",
    "            else:#(1,-1,1)\n",
    "                score = (albumScore*0.57+genreScore*0.03)/0.6\n",
    "        elif(artistScore!= -1):\n",
    "            if(genreScore == -1):#(1,1,-1)\n",
    "                score = (albumScore*0.57+artistScore*0.4)/0.97\n",
    "            else:#(1,1,1)\n",
    "                score = (0.57*albumScore+0.4*artistScore+0.03*genreScore)/1\n",
    "    \n",
    "    sort6track.append(score)\n",
    "\n",
    "    if(len(sort6track) == 6):\n",
    "        t = copy.deepcopy(sort6track)\n",
    "        max_index = []\n",
    "        for _ in range(3):\n",
    "            number = max(t)\n",
    "            index = t.index(number)\n",
    "            t[index] = 0\n",
    "            max_index.append(index)\n",
    "        t = []\n",
    "        #print(max_index)\n",
    "        #print(sort6track)\n",
    "        #reset\n",
    "        #print(list(max_3_of_6))\n",
    "        \n",
    "        for ii in range(0,6):\n",
    "            if ii in max_index:\n",
    "                result.append(1)\n",
    "            else:\n",
    "                result.append(0)\n",
    "        sort6track = []\n",
    "#print(result)\n",
    "print(len(nameList))\n",
    "print(len(result))\n",
    "\n",
    "final_result = []\n",
    "final_result.append([\"TrackID\",\"Predictor\"])\n",
    "for i in range(len(nameList)):\n",
    "    final_result.append([nameList[i],result[i]])\n",
    "\n",
    "#print(final_result)\n",
    "#writer.writerows(map(lambda x:[x],final_result))\n",
    "writer.writerows(final_result)\n",
    "fScore.close()\n"
   ]
  },
  {
   "cell_type": "code",
   "execution_count": null,
   "metadata": {},
   "outputs": [],
   "source": []
  }
 ],
 "metadata": {
  "interpreter": {
   "hash": "907c4abbdbe614c82ef4fec29af034657014b2ff572d7bb616e2b122960da0dc"
  },
  "kernelspec": {
   "display_name": "Python 3.9.10 64-bit",
   "language": "python",
   "name": "python3"
  },
  "language_info": {
   "codemirror_mode": {
    "name": "ipython",
    "version": 3
   },
   "file_extension": ".py",
   "mimetype": "text/x-python",
   "name": "python",
   "nbconvert_exporter": "python",
   "pygments_lexer": "ipython3",
   "version": "3.9.10"
  },
  "orig_nbformat": 4
 },
 "nbformat": 4,
 "nbformat_minor": 2
}
