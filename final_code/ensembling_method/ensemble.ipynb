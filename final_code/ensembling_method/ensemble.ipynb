{
 "cells": [
  {
   "cell_type": "code",
   "execution_count": 66,
   "metadata": {},
   "outputs": [],
   "source": [
    "import numpy as np"
   ]
  },
  {
   "cell_type": "code",
   "execution_count": 67,
   "metadata": {},
   "outputs": [],
   "source": [
    "def st_x(*arg):\n",
    "    x = np.array([])\n",
    "    for accuracy in arg:\n",
    "        t = 120000*(2*accuracy-1)\n",
    "        x = np.append(x,t)\n",
    "    return x.T\n",
    "\n"
   ]
  },
  {
   "cell_type": "code",
   "execution_count": 68,
   "metadata": {},
   "outputs": [],
   "source": [
    "def S(*files):\n",
    "    S = []\n",
    "    benchmark_file = files[0]\n",
    "    bf = open(benchmark_file)\n",
    "    bt = bf.readline()\n",
    "    all_ = {}\n",
    "\n",
    "    names = []\n",
    "\n",
    "    for n in range(0,120000):\n",
    "        bline = bf.readline().strip().split(',')\n",
    "        all_[bline[0]] = 0\n",
    "    bf.close()\n",
    "    #print(all_)\n",
    "\n",
    "\n",
    "    for file in files:\n",
    "\n",
    "        si = []\n",
    "        file_name = []\n",
    "        f = open(file,'r')\n",
    "        t = f.readline()\n",
    "\n",
    "        for n in range(0,120000):\n",
    "            line = f.readline().strip().split(',')\n",
    "            name = line[0]\n",
    "            result = 2*float(line[1])-1\n",
    "            all_[name] =result\n",
    "            #si.append(result)\n",
    "        for dt in all_:\n",
    "            file_name.append(dt)\n",
    "            si.append(all_[dt])\n",
    "        S.append(si)\n",
    "        names.append(file_name)\n",
    "        f.close()\n",
    "    S = np.array(S)\n",
    "    names = np.array(names)\n",
    "    '''\n",
    "    for ii in range(0,120000):\n",
    "        if names[0,ii] !=names[1,ii] or names[1,ii] !=names[2,ii] or names[2,ii] !=names[3,ii] or names[3,ii] !=names[4,ii] or names[4,ii] !=names[5,ii] or names[5,ii] !=names[6,ii] or names[6,ii] !=names[7,ii]:\n",
    "            print(\"name not equal\")\n",
    "    '''\n",
    "    print(S.shape)\n",
    "    return S.T\n"
   ]
  },
  {
   "cell_type": "code",
   "execution_count": 69,
   "metadata": {},
   "outputs": [
    {
     "name": "stdout",
     "output_type": "stream",
     "text": [
      "(15, 120000)\n"
     ]
    }
   ],
   "source": [
    "matrix_S = S('dt_result_0.84721.csv','dt_result_0.85283.csv','gbt_result_0.86446.csv','gbt_result_0.86658.csv','lr_result_0.85862.csv','lr_result_0.86731.csv','lr_result2_0.86521.csv','recommendResult_0.85395.csv','recommendResult_0.87154.csv','rf_result_0.86717.csv','rf_result_0.87017.csv','gbt_result2_0.86462.csv','lr_result2_0.86683.csv','dt_result2_0.8465.csv','rf_result2_0.869.csv')"
   ]
  },
  {
   "cell_type": "code",
   "execution_count": 70,
   "metadata": {},
   "outputs": [],
   "source": [
    "def ensemble(accuracy,matrix_S):\n",
    "    st = matrix_S.T\n",
    "    sts = np.dot(st,matrix_S)\n",
    "    s_ = np.linalg.pinv(sts)\n",
    "    s_sts_ = np.dot(matrix_S,s_)\n",
    "    result = np.dot(s_sts_,accuracy)\n",
    "    return result.T"
   ]
  },
  {
   "cell_type": "code",
   "execution_count": 71,
   "metadata": {},
   "outputs": [
    {
     "name": "stdout",
     "output_type": "stream",
     "text": [
      "[83330.4 84679.2 87470.4 87979.2 86068.8 88154.4 87650.4 84948.  89169.6\n",
      " 88120.8 88840.8 87508.8 88039.2 83160.  88560. ]\n"
     ]
    }
   ],
   "source": [
    "accuracy = st_x(0.84721,0.85283,0.86446,0.86658,0.85862,0.86731,0.86521,0.85395,0.87154,0.86717,0.87017,0.86462,0.86683,0.8465,0.869)\n",
    "print(accuracy)"
   ]
  },
  {
   "cell_type": "code",
   "execution_count": 72,
   "metadata": {},
   "outputs": [],
   "source": [
    "S_ensemble = ensemble(accuracy,matrix_S)"
   ]
  },
  {
   "cell_type": "code",
   "execution_count": 73,
   "metadata": {},
   "outputs": [
    {
     "name": "stdout",
     "output_type": "stream",
     "text": [
      "[ 0.87050774 -0.69057583 -0.87050774 ...  0.87050774 -0.87050774\n",
      "  0.87050774]\n"
     ]
    }
   ],
   "source": [
    "print(S_ensemble)"
   ]
  },
  {
   "cell_type": "code",
   "execution_count": 74,
   "metadata": {},
   "outputs": [],
   "source": [
    "import copy\n",
    "import csv"
   ]
  },
  {
   "cell_type": "code",
   "execution_count": 75,
   "metadata": {},
   "outputs": [],
   "source": [
    "output_file='ensembling_result.csv'\n",
    "fOut = open(output_file,'w',newline='')\n",
    "\n",
    "writer = csv.writer(fOut)"
   ]
  },
  {
   "cell_type": "code",
   "execution_count": 76,
   "metadata": {},
   "outputs": [
    {
     "name": "stdout",
     "output_type": "stream",
     "text": [
      "TrackID,Predictor\n",
      "\n"
     ]
    }
   ],
   "source": [
    "refer_file = 'dt_result_0.84721.csv'\n",
    "f_read = open(refer_file,'r')\n",
    "title = f_read.readline()\n",
    "print(title)"
   ]
  },
  {
   "cell_type": "code",
   "execution_count": 77,
   "metadata": {},
   "outputs": [
    {
     "name": "stdout",
     "output_type": "stream",
     "text": [
      "120000\n",
      "120000\n"
     ]
    }
   ],
   "source": [
    "sorted_score = []\n",
    "name = []\n",
    "result = []\n",
    "for n in range(0,120000):\n",
    "    line = f_read.readline().strip().split(',')\n",
    "\n",
    "    name.append(line[0])\n",
    "    sorted_score.append(S_ensemble[n])\n",
    "\n",
    "    if(len(sorted_score) == 6):\n",
    "        t = copy.deepcopy(sorted_score)\n",
    "        max_index = []\n",
    "        for ii in range(3):\n",
    "            number = max(t)\n",
    "            index = t.index(number)\n",
    "            t[index] = -999\n",
    "            max_index.append(index)\n",
    "        t = []\n",
    "\n",
    "        for ii in range(0,6):\n",
    "            if ii in max_index:\n",
    "                result.append(1)\n",
    "            else:\n",
    "                result.append(0)\n",
    "        sorted_score = []\n",
    "print(len(name))\n",
    "print(len(result))\n",
    "final_result = []\n",
    "final_result.append([\"TrackID\",\"Predictor\"])\n",
    "for i in range(len(name)):\n",
    "    final_result.append([name[i],result[i]])\n",
    "writer.writerows(final_result)\n",
    "fOut.close()"
   ]
  },
  {
   "cell_type": "code",
   "execution_count": null,
   "metadata": {},
   "outputs": [],
   "source": []
  }
 ],
 "metadata": {
  "kernelspec": {
   "display_name": "base",
   "language": "python",
   "name": "python3"
  },
  "language_info": {
   "codemirror_mode": {
    "name": "ipython",
    "version": 3
   },
   "file_extension": ".py",
   "mimetype": "text/x-python",
   "name": "python",
   "nbconvert_exporter": "python",
   "pygments_lexer": "ipython3",
   "version": "3.9.13"
  },
  "orig_nbformat": 4,
  "vscode": {
   "interpreter": {
    "hash": "6f5583cf1d9466b5c27e75c89cc6b383bed5736d6b16c51c8074d8690011a952"
   }
  }
 },
 "nbformat": 4,
 "nbformat_minor": 2
}
