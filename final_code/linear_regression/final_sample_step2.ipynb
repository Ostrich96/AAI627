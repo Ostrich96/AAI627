{
 "cells": [
  {
   "cell_type": "code",
   "execution_count": 1,
   "metadata": {},
   "outputs": [],
   "source": [
    "import csv\n",
    "import copy"
   ]
  },
  {
   "cell_type": "code",
   "execution_count": 15,
   "metadata": {},
   "outputs": [],
   "source": [
    "dataDir='C:/AAI627/data/'\n",
    "file_name_socre = dataDir+ 'output1.txt'\n",
    "output_file= dataDir + 'recommendResult.csv'\n",
    "fScore= open(file_name_socre, 'r')\n",
    "fOut = open(output_file,'w',newline='')\n",
    "writer = csv.writer(fOut)"
   ]
  },
  {
   "cell_type": "code",
   "execution_count": 16,
   "metadata": {},
   "outputs": [
    {
     "name": "stdout",
     "output_type": "stream",
     "text": [
      "120000\n",
      "120000\n"
     ]
    }
   ],
   "source": [
    "countLine = 0\n",
    "sort6track = []\n",
    "result = []\n",
    "nameList = []\n",
    "for line in fScore:\n",
    "    \n",
    "    lineList = line.strip().split('|')\n",
    "    #print(lineList)\n",
    "    name = lineList[0]+'_'+lineList[1]\n",
    "    nameList.append(name)\n",
    "    scoreNum = 0\n",
    "    score = 0\n",
    "    albumScore = int(lineList[2])\n",
    "    artistScore = int(lineList[3])\n",
    "    genreScore = max(int(lineList[4]),int(lineList[5]),int(lineList[6]),int(lineList[7]),int(lineList[8]),int(lineList[9]),int(lineList[10]),int(lineList[11]),int(lineList[12]),int(lineList[13]))\n",
    "    listscore = [int(lineList[4]),int(lineList[5]),int(lineList[6]),int(lineList[7]),int(lineList[8]),int(lineList[9]),int(lineList[10]),int(lineList[11]),int(lineList[12]),int(lineList[13])]\n",
    "    gscNum = 1\n",
    "    for i in listscore:\n",
    "        if i != -1:\n",
    "            gscNum+=0.1\n",
    "    genreScore = genreScore*gscNum\n",
    "    if(albumScore == -1):\n",
    "        if(artistScore == -1):\n",
    "            if(genreScore == -1):\n",
    "                score = 0#(-1,-1,-1)\n",
    "            else:#(-1,-1,1)\n",
    "                score = genreScore\n",
    "        elif(artistScore != -1):\n",
    "            if(genreScore == -1):\n",
    "                score = artistScore#(-1,1,-1)\n",
    "            else:\n",
    "                score = 1.2*artistScore+0.2*genreScore#(-1,1,1)\n",
    "    elif(albumScore!= -1):\n",
    "        if(artistScore == -1):\n",
    "            if(genreScore == -1):\n",
    "                score = albumScore*1.6#(1,-1,-1)*1.6weight\n",
    "            else:#(1,-1,1)\n",
    "                score = albumScore*1.5+genreScore*0.2\n",
    "        elif(artistScore!= -1):\n",
    "            if(genreScore == -1):#(1,1,-1)\n",
    "                score = albumScore*1.5+artistScore*1.2\n",
    "            else:#(1,1,1)\n",
    "                score = 1.5*albumScore+1.2*artistScore+0.3*genreScore\n",
    "    \n",
    "    sort6track.append(score)\n",
    "\n",
    "    if(len(sort6track) == 6):\n",
    "        t = copy.deepcopy(sort6track)\n",
    "        max_index = []\n",
    "        for _ in range(3):\n",
    "            number = max(t)\n",
    "            index = t.index(number)\n",
    "            t[index] = 0\n",
    "            max_index.append(index)\n",
    "        t = []\n",
    "        #print(max_index)\n",
    "        #print(sort6track)\n",
    "        #reset\n",
    "        #print(list(max_3_of_6))\n",
    "        \n",
    "        for ii in range(0,6):\n",
    "            if ii in max_index:\n",
    "                result.append(1)\n",
    "            else:\n",
    "                result.append(0)\n",
    "        sort6track = []\n",
    "#print(result)\n",
    "print(len(nameList))\n",
    "print(len(result))\n",
    "\n",
    "final_result = []\n",
    "final_result.append([\"TrackID\",\"Predictor\"])\n",
    "for i in range(len(nameList)):\n",
    "    final_result.append([nameList[i],result[i]])\n",
    "writer.writerows(final_result)\n",
    "fOut.close()\n"
   ]
  },
  {
   "cell_type": "code",
   "execution_count": null,
   "metadata": {},
   "outputs": [],
   "source": []
  }
 ],
 "metadata": {
  "kernelspec": {
   "display_name": "Python 3.9.13 ('base')",
   "language": "python",
   "name": "python3"
  },
  "language_info": {
   "codemirror_mode": {
    "name": "ipython",
    "version": 3
   },
   "file_extension": ".py",
   "mimetype": "text/x-python",
   "name": "python",
   "nbconvert_exporter": "python",
   "pygments_lexer": "ipython3",
   "version": "3.9.13 (main, Aug 25 2022, 23:51:50) [MSC v.1916 64 bit (AMD64)]"
  },
  "orig_nbformat": 4,
  "vscode": {
   "interpreter": {
    "hash": "6f5583cf1d9466b5c27e75c89cc6b383bed5736d6b16c51c8074d8690011a952"
   }
  }
 },
 "nbformat": 4,
 "nbformat_minor": 2
}
