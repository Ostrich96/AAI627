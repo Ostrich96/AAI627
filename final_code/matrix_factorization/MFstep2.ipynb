{
 "cells": [
  {
   "cell_type": "code",
   "execution_count": 66,
   "metadata": {},
   "outputs": [],
   "source": [
    "import csv\n",
    "import copy"
   ]
  },
  {
   "cell_type": "code",
   "execution_count": 67,
   "metadata": {},
   "outputs": [],
   "source": [
    "dataDir='C:/AAI627/data/'\n",
    "file_name_socre = dataDir+ 'MF10.csv'\n",
    "output_file= dataDir + 'MF10_result.csv'\n",
    "compare_file = dataDir+ \"testTrack_hierarchy.txt\"\n",
    "fScore= open(file_name_socre, 'r')\n",
    "fOut = open(output_file,'w',newline='')\n",
    "fCompare = open(compare_file,'r')\n",
    "writer = csv.writer(fOut)"
   ]
  },
  {
   "cell_type": "code",
   "execution_count": 68,
   "metadata": {},
   "outputs": [
    {
     "data": {
      "text/plain": [
       "\"\\nnameCount = []\\nscoreCount = []\\nsum = 0\\nfor line in fCompare:\\n    lineScore = fScore.readline()\\n    lineList = lineScore.strip().split(',')\\n    fcomList = line.strip().split('|')\\n    i = 1\\n    nameCount.append(lineList[1])\\n    \\n    while fcomList[0]!= lineList[1]:\\n        print(fcomList[0]+'!='+ lineList[1])\\n        newline = fCompare.readline()\\n        fcomList = newline.strip().split('|')\\n        print(i)\\n        i+1\\n        sum=sum+1\\nprint(len(nameCount))\\nprint(sum)\\n\""
      ]
     },
     "execution_count": 68,
     "metadata": {},
     "output_type": "execute_result"
    }
   ],
   "source": [
    "'''\n",
    "nameCount = []\n",
    "scoreCount = []\n",
    "sum = 0\n",
    "for line in fCompare:\n",
    "    lineScore = fScore.readline()\n",
    "    lineList = lineScore.strip().split(',')\n",
    "    fcomList = line.strip().split('|')\n",
    "    i = 1\n",
    "    nameCount.append(lineList[1])\n",
    "    \n",
    "    while fcomList[0]!= lineList[1]:\n",
    "        print(fcomList[0]+'!='+ lineList[1])\n",
    "        newline = fCompare.readline()\n",
    "        fcomList = newline.strip().split('|')\n",
    "        print(i)\n",
    "        i+1\n",
    "        sum=sum+1\n",
    "print(len(nameCount))\n",
    "print(sum)\n",
    "'''\n"
   ]
  },
  {
   "cell_type": "code",
   "execution_count": 69,
   "metadata": {},
   "outputs": [
    {
     "name": "stdout",
     "output_type": "stream",
     "text": [
      "120000\n",
      "120000\n"
     ]
    }
   ],
   "source": [
    "'''\n",
    "resultLine = fScore.readline()\n",
    "print(resultLine)\n",
    "'''\n",
    "nameList = []\n",
    "sortedScore = []\n",
    "result = []\n",
    "ItemID = []\n",
    "compareItemID = []\n",
    "lastUserID = 0\n",
    "lastItemID = 0\n",
    "for line in fCompare:\n",
    "    lineScore = fScore.readline()\n",
    "    lineList = lineScore.strip().split(',')\n",
    "    fcomList = line.strip().split('|')\n",
    "    ItemID.append(lineList[2])\n",
    "    compareItemID.append(fcomList[1])\n",
    "    #compare to find the missing data\n",
    "    while fcomList[0]!= lineList[1]: #and str(lineList[2])!=str(fcomList[1]):\n",
    "        compareItemID.append(fcomList[1])\n",
    "        for id in compareItemID:\n",
    "            if id not in ItemID:\n",
    "                name = fcomList[0]+'_'+id\n",
    "        nameList.append(name)\n",
    "        score = 1\n",
    "        sortedScore.append(score)\n",
    "\n",
    "        if(len(sortedScore) == 6):\n",
    "            t = copy.deepcopy(sortedScore)\n",
    "            max_index = []\n",
    "            for _ in range(3):\n",
    "                number = max(t)\n",
    "                index = t.index(number)\n",
    "                t[index] = 0\n",
    "                max_index.append(index)\n",
    "            t = []\n",
    "\n",
    "            for ii in range(0,6):\n",
    "                if ii in max_index:\n",
    "                    result.append(1)\n",
    "                else:\n",
    "                    result.append(0)\n",
    "            sortedScore = []\n",
    "            ItemID = []\n",
    "            compareItemID = []\n",
    "\n",
    "        newline = fCompare.readline()\n",
    "        fcomList = newline.strip().split('|')\n",
    "    \n",
    "    name = lineList[1]+'_'+lineList[2]\n",
    "    nameList.append(name)\n",
    "    #find the biggest 3 scores\n",
    "    score = float(lineList[4])\n",
    "    sortedScore.append(score)\n",
    "\n",
    "    if(len(sortedScore) == 6):\n",
    "        t = copy.deepcopy(sortedScore)\n",
    "        max_index = []\n",
    "        for _ in range(3):\n",
    "            number = max(t)\n",
    "            index = t.index(number)\n",
    "            t[index] = 0\n",
    "            max_index.append(index)\n",
    "        t = []\n",
    "\n",
    "        for ii in range(0,6):\n",
    "            if ii in max_index:\n",
    "                result.append(1)\n",
    "            else:\n",
    "                result.append(0)\n",
    "        sortedScore = []\n",
    "        ItemID = []\n",
    "        compareItemID = []\n",
    "\n",
    "print(len(nameList))\n",
    "print(len(result))\n",
    "final_result = []\n",
    "final_result.append([\"TrackID\",\"Predictor\"])\n",
    "for i in range(len(nameList)):\n",
    "    final_result.append([nameList[i],result[i]])\n",
    "writer.writerows(final_result)\n",
    "fScore.close()\n",
    "\n",
    "\n",
    "\n"
   ]
  },
  {
   "cell_type": "code",
   "execution_count": null,
   "metadata": {},
   "outputs": [],
   "source": []
  }
 ],
 "metadata": {
  "kernelspec": {
   "display_name": "Python 3.9.13 ('base')",
   "language": "python",
   "name": "python3"
  },
  "language_info": {
   "codemirror_mode": {
    "name": "ipython",
    "version": 3
   },
   "file_extension": ".py",
   "mimetype": "text/x-python",
   "name": "python",
   "nbconvert_exporter": "python",
   "pygments_lexer": "ipython3",
   "version": "3.9.13"
  },
  "orig_nbformat": 4,
  "vscode": {
   "interpreter": {
    "hash": "6f5583cf1d9466b5c27e75c89cc6b383bed5736d6b16c51c8074d8690011a952"
   }
  }
 },
 "nbformat": 4,
 "nbformat_minor": 2
}
