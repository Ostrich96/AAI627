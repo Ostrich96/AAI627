{
 "cells": [
  {
   "cell_type": "code",
   "execution_count": 1,
   "metadata": {},
   "outputs": [],
   "source": [
    "import csv\n",
    "import copy"
   ]
  },
  {
   "cell_type": "code",
   "execution_count": 17,
   "metadata": {},
   "outputs": [],
   "source": [
    "dataDir='C:/AAI627/data/'\n",
    "file_name_socre = dataDir+ 'gbt_prediction.csv'\n",
    "output_file= dataDir + 'gbt_result.csv'\n",
    "\n",
    "fScore= open(file_name_socre, 'r')\n",
    "fOut = open(output_file,'w',newline='')\n",
    "\n",
    "writer = csv.writer(fOut)"
   ]
  },
  {
   "cell_type": "code",
   "execution_count": 18,
   "metadata": {},
   "outputs": [
    {
     "name": "stdout",
     "output_type": "stream",
     "text": [
      ",userID,trackID,probability\n",
      "\n"
     ]
    },
    {
     "data": {
      "text/plain": [
       "'\\ntest = fScore.readline()\\nprint(test)\\n'"
      ]
     },
     "execution_count": 18,
     "metadata": {},
     "output_type": "execute_result"
    }
   ],
   "source": [
    "header = fScore.readline()\n",
    "print(header)\n",
    "'''\n",
    "test = fScore.readline()\n",
    "print(test)\n",
    "'''"
   ]
  },
  {
   "cell_type": "code",
   "execution_count": 19,
   "metadata": {},
   "outputs": [
    {
     "name": "stdout",
     "output_type": "stream",
     "text": [
      "120000\n",
      "120000\n"
     ]
    }
   ],
   "source": [
    "\n",
    "sorted_score = []\n",
    "name_list = []\n",
    "result = []\n",
    "for line in fScore:\n",
    "    line_arr = line.strip().split(',')\n",
    "    name = line_arr[1]+'_'+line_arr[2]\n",
    "    name_list.append(name)\n",
    "    #the smallest 3 probability num\n",
    "    score_a = line_arr[3].strip().lstrip('\"[').rstrip(']\"')\n",
    "    score = float(score_a)\n",
    "    sorted_score.append(score)\n",
    "\n",
    "    if(len(sorted_score) == 6):\n",
    "        t = copy.deepcopy(sorted_score)\n",
    "        max_index = []\n",
    "        for ii in range(3):\n",
    "            number = max(t)\n",
    "            index = t.index(number)\n",
    "            t[index] = -999\n",
    "            max_index.append(index)\n",
    "        t = []\n",
    "\n",
    "        for ii in range(0,6):\n",
    "            if ii in max_index:\n",
    "                result.append(0)\n",
    "            else:\n",
    "                result.append(1)\n",
    "        sorted_score = []\n",
    "print(len(name_list))\n",
    "print(len(result))\n",
    "final_result = []\n",
    "final_result.append([\"TrackID\",\"Predictor\"])\n",
    "for i in range(len(name_list)):\n",
    "    final_result.append([name_list[i],result[i]])\n",
    "writer.writerows(final_result)\n",
    "fScore.close()"
   ]
  },
  {
   "cell_type": "code",
   "execution_count": null,
   "metadata": {},
   "outputs": [],
   "source": []
  }
 ],
 "metadata": {
  "kernelspec": {
   "display_name": "Python 3.9.13 ('base')",
   "language": "python",
   "name": "python3"
  },
  "language_info": {
   "codemirror_mode": {
    "name": "ipython",
    "version": 3
   },
   "file_extension": ".py",
   "mimetype": "text/x-python",
   "name": "python",
   "nbconvert_exporter": "python",
   "pygments_lexer": "ipython3",
   "version": "3.9.13"
  },
  "orig_nbformat": 4,
  "vscode": {
   "interpreter": {
    "hash": "6f5583cf1d9466b5c27e75c89cc6b383bed5736d6b16c51c8074d8690011a952"
   }
  }
 },
 "nbformat": 4,
 "nbformat_minor": 2
}
