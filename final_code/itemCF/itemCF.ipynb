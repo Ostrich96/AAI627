{
 "cells": [
  {
   "cell_type": "code",
   "execution_count": null,
   "metadata": {},
   "outputs": [],
   "source": []
  },
  {
   "cell_type": "code",
   "execution_count": null,
   "metadata": {},
   "outputs": [],
   "source": [
    "def similar_matrix(self):\n",
    "    item_popular = {}\n",
    "    f = open(self,'r')\n",
    "    for line in f:\n",
    "        line = line.strip().split('|')\n",
    "        userID = line[0]\n",
    "        itemID = line[1]\n",
    "        score = line[2]\n",
    "        if itemID not in item_popular:\n",
    "            item_popular[itemID] = 0\n",
    "        else:\n",
    "            item_popular[itemID] +=1\n",
    "    print(\"item number = \"+len(item_popular))\n",
    "\n",
    "    "
   ]
  },
  {
   "cell_type": "code",
   "execution_count": 4,
   "metadata": {},
   "outputs": [
    {
     "name": "stdout",
     "output_type": "stream",
     "text": [
      "295799\n",
      "23\n"
     ]
    }
   ],
   "source": [
    "ftest = open('testTrack_hierarchy.txt','r')\n",
    "ftrain = open('trainIdx2_matrix.txt','r')\n",
    "scored_dict = {}\n",
    "for line in ftrain:\n",
    "    line = line.strip().split('|')\n",
    "    if line[1] not in scored_dict:\n",
    "        scored_dict[line[1]] = 0\n",
    "ftrain.close()\n",
    "n_dict = {}\n",
    "for line in ftest:\n",
    "    line = line.strip().split('|')\n",
    "    if line[1] not in scored_dict:\n",
    "        n_dict[line[1]] = 0\n",
    "ftest.close()\n",
    "print(len(scored_dict))\n",
    "print(len(n_dict))\n"
   ]
  },
  {
   "cell_type": "code",
   "execution_count": 6,
   "metadata": {},
   "outputs": [],
   "source": [
    "import csv\n",
    "ftest = open('testTrack_hierarchy.txt','r')\n",
    "ftrain = open('trainIdx2_matrix.txt','r')\n",
    "ftest_write = open('test_data2.csv','w',newline='')\n",
    "ftrain_write = open('train_data2.csv','w',newline='')\n",
    "\n",
    "test_writer = csv.writer(ftest_write)\n",
    "train_writer = csv.writer(ftrain_write)\n",
    "\n",
    "test = [['userID','trackID']]\n",
    "for line in ftest:\n",
    "    line = line.strip().split('|')\n",
    "    test.append([line[0],line[1]])\n",
    "test_writer.writerows(test)\n",
    "\n",
    "all_trackID = []\n",
    "for u_t in test:\n",
    "    all_trackID.append(u_t[0])\n",
    "\n",
    "ftest.close()\n",
    "ftest_write.close()\n",
    "\n",
    "train = [['userID','itemID','score']]\n",
    "for line in ftrain:\n",
    "    line = line.strip().split('|')\n",
    "    userid = line[0]\n",
    "    itemid = line[1]\n",
    "    score = line[2]\n",
    "    if itemid in all_trackID:\n",
    "\n",
    "        train.append([userid,itemid,score])\n",
    "train_writer.writerows(train)\n",
    "\n",
    "ftrain.close()\n",
    "ftrain_write.close()\n"
   ]
  },
  {
   "cell_type": "code",
   "execution_count": null,
   "metadata": {},
   "outputs": [],
   "source": [
    "\n"
   ]
  }
 ],
 "metadata": {
  "kernelspec": {
   "display_name": "base",
   "language": "python",
   "name": "python3"
  },
  "language_info": {
   "codemirror_mode": {
    "name": "ipython",
    "version": 3
   },
   "file_extension": ".py",
   "mimetype": "text/x-python",
   "name": "python",
   "nbconvert_exporter": "python",
   "pygments_lexer": "ipython3",
   "version": "3.9.13"
  },
  "orig_nbformat": 4,
  "vscode": {
   "interpreter": {
    "hash": "6f5583cf1d9466b5c27e75c89cc6b383bed5736d6b16c51c8074d8690011a952"
   }
  }
 },
 "nbformat": 4,
 "nbformat_minor": 2
}
