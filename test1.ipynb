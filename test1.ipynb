{
 "cells": [
  {
   "cell_type": "code",
   "execution_count": 7,
   "metadata": {},
   "outputs": [],
   "source": [
    "import numpy\n",
    "import csv\n",
    "dataDir='C:/AAI627/data/'\n",
    "file_name_test=dataDir + 'testTrack_hierarchy.txt'\n",
    "file_name_train=dataDir + 'trainIdx2_matrix.txt'\n",
    "output_file= dataDir + 'output1.txt'\n",
    "test_output = dataDir + 'test.csv'\n",
    "fTest =open(test_output,'w')\n",
    "writer = csv.writer(fTest)\n",
    "fTest= open(file_name_test, 'r')\n",
    "fTrain=open(file_name_train, 'r')\n",
    "Trainline= fTrain.readline()\n",
    "fOut = open(output_file, 'r')"
   ]
  },
  {
   "cell_type": "code",
   "execution_count": 8,
   "metadata": {},
   "outputs": [
    {
     "data": {
      "text/plain": [
       "2807861"
      ]
     },
     "execution_count": 8,
     "metadata": {},
     "output_type": "execute_result"
    }
   ],
   "source": [
    "testlist = []\n",
    "for line in fOut:\n",
    "    testlist.append(line)\n",
    "writer.writerow(testlist)"
   ]
  },
  {
   "cell_type": "code",
   "execution_count": null,
   "metadata": {},
   "outputs": [],
   "source": []
  }
 ],
 "metadata": {
  "interpreter": {
   "hash": "907c4abbdbe614c82ef4fec29af034657014b2ff572d7bb616e2b122960da0dc"
  },
  "kernelspec": {
   "display_name": "Python 3.9.10 64-bit",
   "language": "python",
   "name": "python3"
  },
  "language_info": {
   "codemirror_mode": {
    "name": "ipython",
    "version": 3
   },
   "file_extension": ".py",
   "mimetype": "text/x-python",
   "name": "python",
   "nbconvert_exporter": "python",
   "pygments_lexer": "ipython3",
   "version": "3.9.10"
  },
  "orig_nbformat": 4
 },
 "nbformat": 4,
 "nbformat_minor": 2
}
