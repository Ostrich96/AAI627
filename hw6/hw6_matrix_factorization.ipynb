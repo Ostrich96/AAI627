{
 "cells": [
  {
   "cell_type": "code",
   "execution_count": 19,
   "metadata": {},
   "outputs": [],
   "source": [
    "import numpy as np\n"
   ]
  },
  {
   "cell_type": "code",
   "execution_count": 20,
   "metadata": {},
   "outputs": [
    {
     "name": "stdout",
     "output_type": "stream",
     "text": [
      "[[5 3 0 1]\n",
      " [4 0 0 1]\n",
      " [1 1 0 5]\n",
      " [1 0 0 4]\n",
      " [0 1 5 4]]\n"
     ]
    }
   ],
   "source": [
    "R = np.array([[5,3,0,1],[4,0,0,1],[1,1,0,5],[1,0,0,4],[0,1,5,4]])\n",
    "print(R)"
   ]
  },
  {
   "cell_type": "code",
   "execution_count": 21,
   "metadata": {},
   "outputs": [],
   "source": [
    "def martix_factorization(R, P, Q, K, steps = 10000, alpha = 0.0002, beta = 0.02):\n",
    "    Q = Q.T\n",
    "    for step in range(steps):\n",
    "        for i in range(len(R)):\n",
    "            for j in range(len(R[i])):\n",
    "                if R[i][j] >0 :\n",
    "                    eij = R[i][j] - np.dot(P[i,:],Q[:,j])#eij = Rij - sum(pij,qji)\n",
    "                    for k in range(K):\n",
    "                        P[i][k] = P[i][k]+alpha*(2*eij*Q[k][j] - beta*P[j][k])\n",
    "                        Q[k][j] = Q[k][j]+alpha*(2*eij*P[i][k] - beta*Q[k][j])\n",
    "                \n",
    "            \n",
    "    return P, Q.T\n"
   ]
  },
  {
   "cell_type": "code",
   "execution_count": 22,
   "metadata": {},
   "outputs": [
    {
     "name": "stdout",
     "output_type": "stream",
     "text": [
      "[[0.3161648  2.4621725 ]\n",
      " [0.34001136 1.95940696]\n",
      " [2.16698781 0.39861229]\n",
      " [1.72766565 0.39432947]\n",
      " [1.72500376 0.66119926]] \n",
      "\n",
      "[[0.10574601 2.01198397]\n",
      " [0.19753951 1.18083661]\n",
      " [2.10164858 2.00636596]\n",
      " [2.27764227 0.11319411]]\n"
     ]
    }
   ],
   "source": [
    "K = 2\n",
    "N = len(R)\n",
    "M = len(R[0])\n",
    "P = np.random.rand(N,K)\n",
    "Q = np.random.rand(M,K)\n",
    "\n",
    "P_esti,Q_esti = martix_factorization(R,P,Q,K)\n",
    "print(P_esti,'\\n')\n",
    "print(Q_esti)"
   ]
  },
  {
   "cell_type": "code",
   "execution_count": 24,
   "metadata": {},
   "outputs": [
    {
     "name": "stdout",
     "output_type": "stream",
     "text": [
      "[[4.98728477 2.96987846 5.6044864  0.99881375]\n",
      " [3.97825025 2.38090515 4.64587183 0.99621759]\n",
      " [1.03115184 0.8987617  5.35400899 4.9807436 ]\n",
      " [0.97607831 0.8069209  4.42211528 3.97964008]\n",
      " [1.51273457 1.12152469 4.95195939 4.00378534]]\n"
     ]
    }
   ],
   "source": [
    "R_esti = np.dot(P_esti,Q_esti.T)\n",
    "print(R_esti)"
   ]
  },
  {
   "cell_type": "code",
   "execution_count": null,
   "metadata": {},
   "outputs": [],
   "source": []
  }
 ],
 "metadata": {
  "interpreter": {
   "hash": "907c4abbdbe614c82ef4fec29af034657014b2ff572d7bb616e2b122960da0dc"
  },
  "kernelspec": {
   "display_name": "Python 3.9.10 64-bit",
   "language": "python",
   "name": "python3"
  },
  "language_info": {
   "codemirror_mode": {
    "name": "ipython",
    "version": 3
   },
   "file_extension": ".py",
   "mimetype": "text/x-python",
   "name": "python",
   "nbconvert_exporter": "python",
   "pygments_lexer": "ipython3",
   "version": "3.9.10"
  },
  "orig_nbformat": 4
 },
 "nbformat": 4,
 "nbformat_minor": 2
}
