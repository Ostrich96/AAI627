{
 "cells": [
  {
   "cell_type": "code",
   "execution_count": 70,
   "metadata": {},
   "outputs": [],
   "source": [
    "import numpy as np"
   ]
  },
  {
   "cell_type": "code",
   "execution_count": 71,
   "metadata": {},
   "outputs": [],
   "source": [
    "dataDir = 'C:/AAI627/2022spring-ee627/'\n",
    "file_name_test = dataDir + 'testItem2.txt'\n",
    "file_name_train = dataDir + 'trainItem2.txt'\n",
    "track_file = dataDir + 'trackData2.txt'\n",
    "output_file = dataDir + 'output1.txt'"
   ]
  },
  {
   "cell_type": "code",
   "execution_count": 72,
   "metadata": {},
   "outputs": [],
   "source": [
    "fTest = open(file_name_test,'r')#user|num of tracks(6)//trackID...\n",
    "fTrain = open(file_name_train,'r')#user|num of rating//id scores...\n",
    "fTrack = open(track_file,'r')#<track>|<albumID>|<artistID>|<GenereID>|...\n",
    "\n",
    "fOut = open(output_file,'w')\n",
    "\n",
    "trackID_vec = [0]*6\n",
    "albumID_vec = [0]*6\n",
    "artistID_vec = [0]*6\n",
    "lastUserID = -1\n",
    "\n",
    "user_rating_inTrain = np.zeros(shape=(6,3))\n"
   ]
  },
  {
   "cell_type": "code",
   "execution_count": null,
   "metadata": {},
   "outputs": [],
   "source": [
    "\n",
    "lineNum = 0 \n",
    "outStr = \"\"\n",
    "for line in fTest:\n",
    "    lineNum+=1\n",
    "    if(lineNum %7 == 1):\n",
    "        arr_test = line.strip().split('|')\n",
    "        lastUserID = arr_test[0]\n",
    "        continue\n",
    "    trackID = line.strip()\n",
    "    trackList = []\n",
    "    for line2 in fTrack:\n",
    "        arr_track = line2.strip().split('|')\n",
    "        if(trackID == arr_track[0]):\n",
    "            trackList.append(trackID)\n",
    "            for id in arr_track:\n",
    "                trackList.append(id)\n",
    "    for id in trackList:\n",
    "        outStr += str(id)+ '|'\n",
    "    outStr+='\\n'"
   ]
  },
  {
   "cell_type": "code",
   "execution_count": 68,
   "metadata": {},
   "outputs": [],
   "source": [
    "lineNum = 0 \n",
    "outStr = \"\"\n",
    "for line in fTest:\n",
    "    lineNum+=1\n",
    "    if(lineNum %7 == 1):\n",
    "        arr_test = line.strip().split('|')\n",
    "        lastUserID = arr_test[0]\n",
    "        continue\n",
    "    trackID = line.strip()\n",
    "    trackList = []\n",
    "    for line2 in fTrack:\n",
    "        arr_track = line2.strip().split('|')\n",
    "        if(trackID == arr_track[0]):\n",
    "            trackList.append(trackID)\n",
    "            for id in arr_track:\n",
    "                trackList.append(id)\n",
    "    for id in trackList:\n",
    "        outStr += str(id)+ '|'\n",
    "    outStr+='\\n'\n",
    "fOut.write(outStr)\n",
    "fTest.close()\n",
    "fTrain.close()\n",
    "fTrack.close()\n",
    "\n",
    "    "
   ]
  },
  {
   "cell_type": "code",
   "execution_count": null,
   "metadata": {},
   "outputs": [],
   "source": []
  }
 ],
 "metadata": {
  "interpreter": {
   "hash": "907c4abbdbe614c82ef4fec29af034657014b2ff572d7bb616e2b122960da0dc"
  },
  "kernelspec": {
   "display_name": "Python 3.9.10 64-bit",
   "language": "python",
   "name": "python3"
  },
  "language_info": {
   "codemirror_mode": {
    "name": "ipython",
    "version": 3
   },
   "file_extension": ".py",
   "mimetype": "text/x-python",
   "name": "python",
   "nbconvert_exporter": "python",
   "pygments_lexer": "ipython3",
   "version": "3.9.10"
  },
  "orig_nbformat": 4
 },
 "nbformat": 4,
 "nbformat_minor": 2
}
